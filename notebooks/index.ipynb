{
 "cells": [
  {
   "cell_type": "markdown",
   "metadata": {},
   "source": [
    "# Welcome to gridstitcher\n",
    "\n",
    "> Yet another experimental package to automate stitching/registration of a regular grid of image tiles."
   ]
  },
  {
   "cell_type": "markdown",
   "metadata": {},
   "source": [
    "Some camera systems, such as infrared reflectography at 1600nm, inherently produce fairly low resolution images. To increase overall image resolution it is possible to photograph an object in parts in a regular grid of overlapping image tiles. This then leaves us with the task of stitching or registering those tiles into a composite image. Doing this manually with a photo editor is certainly possible. However for large amounts of images this becomes a time consuming and tedious job. \n",
    "\n",
    "In the recent Falnama project with Wereldmuseum and Klassik Stiftung Weimar we acquired 36 image tiles for 35 pages each. So we needed an automated stitching software.  After unsuccessful trials for our types of images with Photoshop and several existing Python packages our project team decided to try and develop our own open source Python package `gridstitcher`. \n",
    "\n",
    "If you are interested you can install the package from the Python package soon. You can also study the github [source code](https://github.com/fligt/gridstitcher/tree/master) and the [documentation](https://fligt.github.io/gridstitcher/). \n"
   ]
  }
 ],
 "metadata": {
  "kernelspec": {
   "display_name": "python3",
   "language": "python",
   "name": "python3"
  }
 },
 "nbformat": 4,
 "nbformat_minor": 4
}
